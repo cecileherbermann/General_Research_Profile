{
 "cells": [
  {
   "cell_type": "markdown",
   "metadata": {},
   "source": [
    "# Reference mapping using cell embedding by pretrained scGPT model"
   ]
  },
  {
   "cell_type": "code",
   "execution_count": null,
   "metadata": {},
   "outputs": [],
   "source": [
    "# Imports\n",
    "import sys\n",
    "from pathlib import Path\n",
    "import numpy as np\n",
    "import pandas as pd\n",
    "from scipy.stats import mode\n",
    "import scanpy as sc\n",
    "import sklearn\n",
    "import warnings\n",
    "sys.path.insert(0, \"../\")\n",
    "import scgpt as scg\n",
    "\n",
    "# extra dependency for similarity search\n",
    "try:\n",
    "    import faiss\n",
    "\n",
    "    faiss_imported = True\n",
    "except ImportError:\n",
    "    faiss_imported = False\n",
    "    print(\n",
    "        \"faiss not installed! We highly recommend installing it for fast similarity search.\"\n",
    "    )\n",
    "    print(\"To install it, see https://github.com/facebookresearch/faiss/wiki/Installing-Faiss\")\n",
    "\n",
    "warnings.filterwarnings(\"ignore\", category=ResourceWarning)"
   ]
  },
  {
   "cell_type": "code",
   "execution_count": null,
   "metadata": {},
   "outputs": [],
   "source": [
    "# Change paths according to your scGPT model, adata object and faiss index directory\n",
    "model_dir = Path(\"/data1/projects/pi-drukkerm/herbermannc/practicedata/scGPT_human\")\n",
    "adata = sc.read_h5ad(\"/data1/projects/pi-drukkerm/herbermannc/practicedata/CFS_all_days_rawcount.h5ad\")\n",
    "gene_col = \"index\"\n",
    "index_dir=\"/data1/projects/pi-drukkerm/herbermannc/practicedata/faiss_index/\""
   ]
  },
  {
   "cell_type": "code",
   "execution_count": null,
   "metadata": {},
   "outputs": [],
   "source": [
    "# Embedding of adata\n",
    "adata_embed = scg.tasks.embed_data(\n",
    "    adata,\n",
    "    model_dir,\n",
    "    gene_col=gene_col,\n",
    "    batch_size=64,\n",
    "    return_new_adata=True,\n",
    ")"
   ]
  },
  {
   "cell_type": "code",
   "execution_count": null,
   "metadata": {},
   "outputs": [],
   "source": [
    "# Load faiss index\n",
    "from build_atlas_index_faiss import load_index, vote\n",
    "index, meta_labels = load_index(\n",
    "    index_dir,\n",
    "    use_config_file=True,\n",
    "    use_gpu=True,\n",
    ")\n",
    "print(f\"Loaded index with {index.ntotal} cells\")"
   ]
  },
  {
   "cell_type": "code",
   "execution_count": null,
   "metadata": {},
   "outputs": [],
   "source": [
    "# Apply similarity search\n",
    "adata_embed = adata_embed.X\n",
    "%%time\n",
    "k = 50\n",
    "distances, idx = index.search(adata_embed, k)\n",
    "\n",
    "predict_labels = meta_labels[idx]\n",
    "\n",
    "from tqdm import tqdm\n",
    "\n",
    "voting = []\n",
    "for preds in tqdm(predict_labels):\n",
    "    voting.append(vote(preds, return_prob=False)[0])\n",
    "voting = np.array(voting)"
   ]
  },
  {
   "cell_type": "code",
   "execution_count": null,
   "metadata": {},
   "outputs": [],
   "source": [
    "# Add celltype to adata\n",
    "adata.obs['celltype'] = voting"
   ]
  },
  {
   "cell_type": "code",
   "execution_count": null,
   "metadata": {},
   "outputs": [],
   "source": [
    "# Dimensionality reduction and plotting\n",
    "sc.pp.neighbors(adata, use_rep=\"X\")\n",
    "sc.tl.umap(adata)\n",
    "sc.pl.umap(adata, color='celltype', frameon=False, wspace=0.4)"
   ]
  }
 ],
 "metadata": {
  "language_info": {
   "name": "python"
  }
 },
 "nbformat": 4,
 "nbformat_minor": 2
}
